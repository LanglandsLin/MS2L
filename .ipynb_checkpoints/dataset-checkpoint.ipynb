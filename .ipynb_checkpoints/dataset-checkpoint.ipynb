{
 "cells": [
  {
   "cell_type": "code",
   "execution_count": 1,
   "metadata": {
    "tags": []
   },
   "outputs": [],
   "source": [
    "# %load dataset.py\n",
    "# sys\n",
    "import os\n",
    "import sys\n",
    "import numpy as np\n",
    "import random\n",
    "import pickle\n",
    "\n",
    "# torch\n",
    "import torch\n",
    "import torch.nn as nn\n",
    "import torch.optim as optim\n",
    "import torch.nn.functional as F\n",
    "from torchvision import datasets, transforms\n",
    "from itertools import permutations\n",
    "from tqdm import tqdm\n",
    "# visualization\n",
    "import time"
   ]
  },
  {
   "cell_type": "code",
   "execution_count": 2,
   "metadata": {},
   "outputs": [],
   "source": [
    "class DataSet(torch.utils.data.Dataset):\n",
    "\n",
    "    \"\"\" Dataset for skeleton-based action recognition\n",
    "    Arguments:\n",
    "        data_path: the path to '.npy' data, the shape of data should be (N, C, T, V, M)\n",
    "        label_path: the path to label\n",
    "        debug: If true, only use the first 100 samples\n",
    "    \"\"\"\n",
    "\n",
    "    def __init__(self,\n",
    "                 data_path,\n",
    "                 label_path,\n",
    "                 frame_path,\n",
    "                 debug=False):\n",
    "        self.debug = debug\n",
    "        self.data_path = data_path\n",
    "        self.label_path = label_path\n",
    "        self.frame_path = frame_path\n",
    "        self.load_data()\n",
    "\n",
    "\n",
    "    def load_data(self):\n",
    "        # data: N C T V M\n",
    "        if self.frame_path:\n",
    "            self.frame = np.load(self.frame_path)\n",
    "\n",
    "        # load label\n",
    "        with open(self.label_path, 'rb') as f:\n",
    "            self.sample_name, self.label = pickle.load(f)\n",
    "\n",
    "        # load data\n",
    "        self.data = np.load(self.data_path)\n",
    "\n",
    "        if \"NTU\" in self.data_path or \"PKUMMD2\" in self.data_path:\n",
    "            self.data = self.data[:, ::5]\n",
    "            self.frame = self.frame // 5\n",
    "\n",
    "        #PKUMMD1\n",
    "        if \"PKUMMD_1\" in self.data_path:\n",
    "            self.N, self.C, self.T, self.V, self.M = self.data.shape\n",
    "            self.data = np.transpose(self.data, (0, 2, 1, 3, 4))\n",
    "            self.data = self.data.reshape(self.N, self.T, 150)\n",
    "        #PKUMMD1\n",
    "\n",
    "        if self.debug:\n",
    "            self.label = self.label[0:100]\n",
    "            self.data = self.data[0:100]\n",
    "            self.sample_name = self.sample_name[0:100]\n",
    "\n",
    "        self.size, self.max_frame, self.feature_dim = self.data.shape\n",
    "\n",
    "\n",
    "    def __len__(self):\n",
    "        return self.size\n",
    "\n",
    "    def __getitem__(self, index):\n",
    "        data = np.array(self.data[index])\n",
    "        label = self.label[index]\n",
    "        if hasattr(self, 'frame'):\n",
    "            frame = self.frame[index]\n",
    "        else:\n",
    "            frame = self.max_frame\n",
    "        if \"NTU\" in self.data_path or \"PKUMMD_1\" in self.data_path or \"PKUMMD2\" in self.data_path:\n",
    "            return data, label, frame\n",
    "        else:\n",
    "            return data, label - 1, frame"
   ]
  },
  {
   "cell_type": "code",
   "execution_count": 3,
   "metadata": {},
   "outputs": [],
   "source": [
    "data = DataSet(\"/mnt/netdisk/linlilang/UCLA/train_data.npy\", \"/mnt/netdisk/linlilang/UCLA/train_label.pkl\", \"/mnt/netdisk/linlilang/UCLA/train_num_frame.npy\", True)"
   ]
  },
  {
   "cell_type": "code",
   "execution_count": 4,
   "metadata": {},
   "outputs": [],
   "source": [
    "import matplotlib.pyplot as plt\n",
    "from mpl_toolkits.mplot3d import Axes3D\n",
    "from matplotlib.animation import FuncAnimation\n",
    "%matplotlib inline\n",
    "from IPython import display\n",
    "#     plt.show()"
   ]
  },
  {
   "cell_type": "code",
   "execution_count": 5,
   "metadata": {},
   "outputs": [
    {
     "data": {
      "image/png": "[encoded data removed]",
      "text/plain": [
       "<Figure size 432x288 with 1 Axes>"
      ]
     },
     "metadata": {
      "needs_background": "light"
     },
     "output_type": "display_data"
    }
   ],
   "source": [
    "def update(i):\n",
    "\n",
    "    datum = np.reshape(data[0][0][i], (20, 3))\n",
    "\n",
    "    x = datum[:,0]\n",
    "    y = datum[:,1]\n",
    "    z = datum[:,2]\n",
    "    \n",
    "    fig = plt.figure()\n",
    "    ax = Axes3D(fig)\n",
    "\n",
    "    ax.scatter(x, y, z)\n",
    "    for i in range(len(x)):\n",
    "        ax.text(x[i],y[i],z[i],i + 1)\n",
    "        \n",
    "    links = [(3, 2), (2, 1), (1, 0), (0, 12), (0, 16), (12, 13), (13, 14),\n",
    "            (14, 15), (16, 17), (17, 18), (18, 19), (2, 4), (4, 5), (5, 6), (6, 7), (2, 8), (8, 9), (9, 10), (10, 11)]\n",
    "    for link in links:\n",
    "        i = link[0]\n",
    "        j = link[1]\n",
    "        ax.plot([x[i],x[j]], [y[i],y[j]], [z[i],z[j]], c='r')\n",
    "\n",
    "    plt.axis('off')\n",
    "    \n",
    "    ax.view_init(elev=-90, azim=90)\n",
    "    \n",
    "#     plt.pause(0.5)\n",
    "    display.clear_output(wait=True)\n",
    "    plt.show()\n",
    "    \n",
    "\n",
    "for i in range(data.max_frame):\n",
    "    update(i)"
   ]
  },
  {
   "cell_type": "code",
   "execution_count": null,
   "metadata": {},
   "outputs": [],
   "source": []
  },
  {
   "cell_type": "code",
   "execution_count": null,
   "metadata": {},
   "outputs": [],
   "source": []
  }
 ],
 "metadata": {
  "kernelspec": {
   "display_name": "Python 3",
   "language": "python",
   "name": "python3"
  },
  "language_info": {
   "codemirror_mode": {
    "name": "ipython",
    "version": 3
   },
   "file_extension": ".py",
   "mimetype": "text/x-python",
   "name": "python",
   "nbconvert_exporter": "python",
   "pygments_lexer": "ipython3",
   "version": "3.7.10"
  },
  "toc-autonumbering": false,
  "toc-showcode": false,
  "toc-showmarkdowntxt": false,
  "toc-showtags": false
 },
 "nbformat": 4,
 "nbformat_minor": 4
}
